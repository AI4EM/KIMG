{
 "cells": [
  {
   "cell_type": "code",
   "execution_count": 13,
   "id": "d3e030ae",
   "metadata": {},
   "outputs": [],
   "source": [
    "import pandas as pd\n",
    "from sklearn.model_selection import train_test_split"
   ]
  },
  {
   "cell_type": "code",
   "execution_count": 23,
   "id": "94ef2bc2",
   "metadata": {},
   "outputs": [],
   "source": [
    "df = pd.read_csv('smiles_tm_240119.csv')"
   ]
  },
  {
   "cell_type": "code",
   "execution_count": 24,
   "id": "7c56de90",
   "metadata": {},
   "outputs": [],
   "source": [
    "train_data, test_data = train_test_split(df, test_size=0.2, random_state=42)\n",
    "test_data, val_data = train_test_split(test_data, test_size=0.5, random_state=42)\n"
   ]
  },
  {
   "cell_type": "code",
   "execution_count": 25,
   "id": "bde810fc",
   "metadata": {},
   "outputs": [
    {
     "data": {
      "text/plain": [
       "(23770, 3)"
      ]
     },
     "execution_count": 25,
     "metadata": {},
     "output_type": "execute_result"
    }
   ],
   "source": [
    "train_data.shape"
   ]
  },
  {
   "cell_type": "code",
   "execution_count": 26,
   "id": "1124ba76",
   "metadata": {},
   "outputs": [
    {
     "data": {
      "text/plain": [
       "(2971, 3)"
      ]
     },
     "execution_count": 26,
     "metadata": {},
     "output_type": "execute_result"
    }
   ],
   "source": [
    "test_data.shape"
   ]
  },
  {
   "cell_type": "code",
   "execution_count": 27,
   "id": "5e50b0a3",
   "metadata": {},
   "outputs": [
    {
     "data": {
      "text/plain": [
       "(2972, 3)"
      ]
     },
     "execution_count": 27,
     "metadata": {},
     "output_type": "execute_result"
    }
   ],
   "source": [
    "val_data.shape"
   ]
  },
  {
   "cell_type": "code",
   "execution_count": 28,
   "id": "087ff0a7",
   "metadata": {},
   "outputs": [],
   "source": [
    "train_data['Data_Type'] = 'train'\n",
    "test_data['Data_Type'] = 'test'\n",
    "val_data['Data_Type'] = 'validation'"
   ]
  },
  {
   "cell_type": "code",
   "execution_count": 29,
   "id": "5f0b8997",
   "metadata": {},
   "outputs": [],
   "source": [
    "dataset = pd.concat([train_data, test_data, val_data])"
   ]
  },
  {
   "cell_type": "code",
   "execution_count": 30,
   "id": "a2bd9a84",
   "metadata": {},
   "outputs": [
    {
     "data": {
      "text/html": [
       "<div>\n",
       "<style scoped>\n",
       "    .dataframe tbody tr th:only-of-type {\n",
       "        vertical-align: middle;\n",
       "    }\n",
       "\n",
       "    .dataframe tbody tr th {\n",
       "        vertical-align: top;\n",
       "    }\n",
       "\n",
       "    .dataframe thead th {\n",
       "        text-align: right;\n",
       "    }\n",
       "</style>\n",
       "<table border=\"1\" class=\"dataframe\">\n",
       "  <thead>\n",
       "    <tr style=\"text-align: right;\">\n",
       "      <th></th>\n",
       "      <th>no</th>\n",
       "      <th>smiles</th>\n",
       "      <th>tm</th>\n",
       "      <th>Data_Type</th>\n",
       "    </tr>\n",
       "  </thead>\n",
       "  <tbody>\n",
       "    <tr>\n",
       "      <th>1606</th>\n",
       "      <td>1607</td>\n",
       "      <td>O=C(C1=C(C(C2=CC=C([N+]([O-])=O)C=C2)=O)C=NC3=...</td>\n",
       "      <td>73.00</td>\n",
       "      <td>train</td>\n",
       "    </tr>\n",
       "    <tr>\n",
       "      <th>6712</th>\n",
       "      <td>6713</td>\n",
       "      <td>O=[N+](CC1=C(C)C(C)=C(C)C(C)=C1C)[O-]</td>\n",
       "      <td>85.00</td>\n",
       "      <td>train</td>\n",
       "    </tr>\n",
       "    <tr>\n",
       "      <th>9841</th>\n",
       "      <td>9842</td>\n",
       "      <td>O=C(O)C1=CC=C([N+]([O-])=O)C(N(C(N2CCC(OCC)CC2...</td>\n",
       "      <td>91.00</td>\n",
       "      <td>train</td>\n",
       "    </tr>\n",
       "    <tr>\n",
       "      <th>22833</th>\n",
       "      <td>22834</td>\n",
       "      <td>N/C(C1=CC=C(C)C=C1)=C\\[N+]([O-])=O</td>\n",
       "      <td>112.00</td>\n",
       "      <td>train</td>\n",
       "    </tr>\n",
       "    <tr>\n",
       "      <th>24044</th>\n",
       "      <td>24045</td>\n",
       "      <td>O=[N+](C1=C2C=CC=CC2=CC=C1C#CC3=CC=CC=C3)[O-]</td>\n",
       "      <td>113.50</td>\n",
       "      <td>train</td>\n",
       "    </tr>\n",
       "    <tr>\n",
       "      <th>...</th>\n",
       "      <td>...</td>\n",
       "      <td>...</td>\n",
       "      <td>...</td>\n",
       "      <td>...</td>\n",
       "    </tr>\n",
       "    <tr>\n",
       "      <th>139</th>\n",
       "      <td>140</td>\n",
       "      <td>O=C1C([N+]([O-])=O)(C/C=C/OCC)C(C2=C1C=CC=C2)=O</td>\n",
       "      <td>69.25</td>\n",
       "      <td>validation</td>\n",
       "    </tr>\n",
       "    <tr>\n",
       "      <th>92</th>\n",
       "      <td>93</td>\n",
       "      <td>O=C(OC)C1=CC([N+]([O-])=O)=C(N(C)[N+]([O-])=O)...</td>\n",
       "      <td>69.00</td>\n",
       "      <td>validation</td>\n",
       "    </tr>\n",
       "    <tr>\n",
       "      <th>26323</th>\n",
       "      <td>26324</td>\n",
       "      <td>CC(NC(C1=CC=C(C)C=C1)C[N+]([O-])=O)=O</td>\n",
       "      <td>116.80</td>\n",
       "      <td>validation</td>\n",
       "    </tr>\n",
       "    <tr>\n",
       "      <th>6341</th>\n",
       "      <td>6342</td>\n",
       "      <td>CC(N(C1=CC=C2C([N+]([O-])=O)=CC=CC2=C1)N=O)=O</td>\n",
       "      <td>84.00</td>\n",
       "      <td>validation</td>\n",
       "    </tr>\n",
       "    <tr>\n",
       "      <th>21731</th>\n",
       "      <td>21732</td>\n",
       "      <td>O=C(N1C=C(C(NOC(C(C)(C)C)=O)C[N+]([O-])=O)C2=C...</td>\n",
       "      <td>110.00</td>\n",
       "      <td>validation</td>\n",
       "    </tr>\n",
       "  </tbody>\n",
       "</table>\n",
       "<p>29713 rows × 4 columns</p>\n",
       "</div>"
      ],
      "text/plain": [
       "          no                                             smiles      tm  \\\n",
       "1606    1607  O=C(C1=C(C(C2=CC=C([N+]([O-])=O)C=C2)=O)C=NC3=...   73.00   \n",
       "6712    6713              O=[N+](CC1=C(C)C(C)=C(C)C(C)=C1C)[O-]   85.00   \n",
       "9841    9842  O=C(O)C1=CC=C([N+]([O-])=O)C(N(C(N2CCC(OCC)CC2...   91.00   \n",
       "22833  22834                 N/C(C1=CC=C(C)C=C1)=C\\[N+]([O-])=O  112.00   \n",
       "24044  24045      O=[N+](C1=C2C=CC=CC2=CC=C1C#CC3=CC=CC=C3)[O-]  113.50   \n",
       "...      ...                                                ...     ...   \n",
       "139      140    O=C1C([N+]([O-])=O)(C/C=C/OCC)C(C2=C1C=CC=C2)=O   69.25   \n",
       "92        93  O=C(OC)C1=CC([N+]([O-])=O)=C(N(C)[N+]([O-])=O)...   69.00   \n",
       "26323  26324              CC(NC(C1=CC=C(C)C=C1)C[N+]([O-])=O)=O  116.80   \n",
       "6341    6342      CC(N(C1=CC=C2C([N+]([O-])=O)=CC=CC2=C1)N=O)=O   84.00   \n",
       "21731  21732  O=C(N1C=C(C(NOC(C(C)(C)C)=O)C[N+]([O-])=O)C2=C...  110.00   \n",
       "\n",
       "        Data_Type  \n",
       "1606        train  \n",
       "6712        train  \n",
       "9841        train  \n",
       "22833       train  \n",
       "24044       train  \n",
       "...           ...  \n",
       "139    validation  \n",
       "92     validation  \n",
       "26323  validation  \n",
       "6341   validation  \n",
       "21731  validation  \n",
       "\n",
       "[29713 rows x 4 columns]"
      ]
     },
     "execution_count": 30,
     "metadata": {},
     "output_type": "execute_result"
    }
   ],
   "source": [
    "dataset"
   ]
  },
  {
   "cell_type": "code",
   "execution_count": 31,
   "id": "db7836f2",
   "metadata": {},
   "outputs": [],
   "source": [
    "dataset.to_csv('data_type.csv', index=False)"
   ]
  },
  {
   "cell_type": "code",
   "execution_count": null,
   "id": "21b44022",
   "metadata": {},
   "outputs": [],
   "source": []
  }
 ],
 "metadata": {
  "kernelspec": {
   "display_name": "Python 3 (ipykernel)",
   "language": "python",
   "name": "python3"
  },
  "language_info": {
   "codemirror_mode": {
    "name": "ipython",
    "version": 3
   },
   "file_extension": ".py",
   "mimetype": "text/x-python",
   "name": "python",
   "nbconvert_exporter": "python",
   "pygments_lexer": "ipython3",
   "version": "3.9.12"
  }
 },
 "nbformat": 4,
 "nbformat_minor": 5
}
