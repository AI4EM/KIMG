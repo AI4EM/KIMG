{
 "cells": [
  {
   "cell_type": "code",
   "execution_count": 2,
   "id": "323e926b",
   "metadata": {},
   "outputs": [],
   "source": [
    "import cpwhy\n",
    "from chemprop.utils import load_checkpoint"
   ]
  },
  {
   "cell_type": "code",
   "execution_count": 3,
   "id": "077004ab",
   "metadata": {},
   "outputs": [
    {
     "name": "stdout",
     "output_type": "stream",
     "text": [
      "Loading pretrained parameter \"encoder.encoder.0.cached_zero_vector\".\n",
      "Loading pretrained parameter \"encoder.encoder.0.W_i.weight\".\n",
      "Loading pretrained parameter \"encoder.encoder.0.W_h.weight\".\n",
      "Loading pretrained parameter \"encoder.encoder.0.W_o.weight\".\n",
      "Loading pretrained parameter \"encoder.encoder.0.W_o.bias\".\n",
      "Loading pretrained parameter \"readout.1.weight\".\n",
      "Loading pretrained parameter \"readout.1.bias\".\n",
      "Loading pretrained parameter \"readout.4.weight\".\n",
      "Loading pretrained parameter \"readout.4.bias\".\n",
      "Explaining mol 0\n",
      "Figure saved to mol0.png\n",
      "Explaining mol 1\n",
      "Figure saved to mol1.png\n",
      "Explaining mol 2\n",
      "Figure saved to mol2.png\n",
      "Explaining mol 3\n",
      "Figure saved to mol3.png\n",
      "Explaining mol 4\n",
      "Figure saved to mol4.png\n",
      "Explaining mol 5\n",
      "Figure saved to mol5.png\n",
      "Explaining mol 6\n",
      "Figure saved to mol6.png\n",
      "Explaining mol 7\n",
      "Figure saved to mol7.png\n",
      "Explaining mol 8\n",
      "Figure saved to mol8.png\n"
     ]
    }
   ],
   "source": [
    "# model = ExplanationModel(load_checkpoint(\"fusion_mc_937_x1_wo0_fp/fold_0/model_0/model.pt\"))\n",
    "explainer = cpwhy.PathExplainer(load_checkpoint(\"C:/Users/CP/Desktop/work/cp/30k_melting_cast/model_test_parameter_0119/model_explanation/model.pt\"))\n",
    "mols = [\n",
    "    \"Cc1c(N(=O)=O)cc(N(=O)=O)cc1N(=O)=O\",\n",
    "    \"O=N(=O)C1(N(=O)=O)CN(N(=O)=O)COC1\",\n",
    "    \"Cn1c(N(=O)=O)c(N(=O)=O)c(N(=O)=O)n1\",\n",
    "    \"COc1c(N(=O)=O)cc(N(=O)=O)cc1\",\n",
    "    \"O=n1c(N(=O)=O)c(c2nonc2N(=O)=O)no1\",\n",
    "    \"Nc1nc(c2nonc2N(=O)=O)no1\",\n",
    "    \"O=N(=O)c1nc(N(=O)=O)nn1C\",\n",
    "    \"O=N(=O)C1(N(=O)=O)CN(N(=O)=O)C1\",\n",
    "    \"O=N(=O)c1c(N(=O)=O)c(N(=O)=O)c(N(=O)=O)n1C\"\n",
    "]\n",
    "\n",
    "for i, mol in enumerate(mols):\n",
    "    print(\"Explaining mol\", i)\n",
    "    exp = explainer.explain_molecule(mol,n=0)\n",
    "    cpwhy.exp_to_png(exp, f\"mol{i}.png\")\n",
    "# mol_to_png(\"O=C(O)CS(=O)(=O)c1ccc(OCc2cccc(-c3ccccc3Cl)c2)cc1\", \"/tmp/test.png\")\n",
    "# exp = explainer.explain_molecule(\"COC(=N)Cc1ccccc1\", n=0)\n",
    "# cpwhy.exp_to_png(exp, \"/tmp/mol2.png\")"
   ]
  },
  {
   "cell_type": "code",
   "execution_count": 3,
   "id": "e55a505c",
   "metadata": {},
   "outputs": [
    {
     "name": "stdout",
     "output_type": "stream",
     "text": [
      "Loading pretrained parameter \"encoder.encoder.0.cached_zero_vector\".\n",
      "Loading pretrained parameter \"encoder.encoder.0.W_i.weight\".\n",
      "Loading pretrained parameter \"encoder.encoder.0.W_h.weight\".\n",
      "Loading pretrained parameter \"encoder.encoder.0.W_o.weight\".\n",
      "Loading pretrained parameter \"encoder.encoder.0.W_o.bias\".\n",
      "Loading pretrained parameter \"readout.1.weight\".\n",
      "Loading pretrained parameter \"readout.1.bias\".\n",
      "Loading pretrained parameter \"readout.4.weight\".\n",
      "Loading pretrained parameter \"readout.4.bias\".\n",
      "Explaining mol 0\n",
      "Figure saved to mol00.png\n",
      "Explaining mol 1\n",
      "Figure saved to mol11.png\n",
      "Explaining mol 2\n",
      "Figure saved to mol22.png\n",
      "Explaining mol 3\n",
      "Figure saved to mol33.png\n"
     ]
    }
   ],
   "source": [
    "# model = ExplanationModel(load_checkpoint(\"fusion_mc_937_x1_wo0_fp/fold_0/model_0/model.pt\"))\n",
    "explainer = cpwhy.PathExplainer(load_checkpoint(\"C:/Users/CP/Desktop/work/cp/30k_melting_cast/model_test_parameter_0119/model_explanation/model.pt\"))\n",
    "mols = [\n",
    "    \"O=[N+](C1=CC([N+]([O-])=O)=CC([N+]([O-])=O)=C1)[O-]\",\n",
    "    \"O=[N+]([O-])C1=C(C=CC=C1)[N+]([O-])=O\",\n",
    "    \"O=[N+]([O-])C1=CC([N+]([O-])=O)=CC=C1\",\n",
    "    \"O=[N+]([O-])C1=CC=C(C=C1)[N+]([O-])=O\"\n",
    "]\n",
    "\n",
    "for i, mol in enumerate(mols):\n",
    "    print(\"Explaining mol\", i)\n",
    "    exp = explainer.explain_molecule(mol,n=0)\n",
    "    cpwhy.exp_to_png(exp, f\"mol{i}{i}.png\")\n",
    "# mol_to_png(\"O=C(O)CS(=O)(=O)c1ccc(OCc2cccc(-c3ccccc3Cl)c2)cc1\", \"/tmp/test.png\")\n",
    "# exp = explainer.explain_molecule(\"COC(=N)Cc1ccccc1\", n=0)\n",
    "# cpwhy.exp_to_png(exp, \"/tmp/mol2.png\")"
   ]
  },
  {
   "cell_type": "code",
   "execution_count": null,
   "id": "4502b6f0",
   "metadata": {},
   "outputs": [],
   "source": []
  }
 ],
 "metadata": {
  "kernelspec": {
   "display_name": "Python 3 (ipykernel)",
   "language": "python",
   "name": "python3"
  },
  "language_info": {
   "codemirror_mode": {
    "name": "ipython",
    "version": 3
   },
   "file_extension": ".py",
   "mimetype": "text/x-python",
   "name": "python",
   "nbconvert_exporter": "python",
   "pygments_lexer": "ipython3",
   "version": "3.9.12"
  }
 },
 "nbformat": 4,
 "nbformat_minor": 5
}
